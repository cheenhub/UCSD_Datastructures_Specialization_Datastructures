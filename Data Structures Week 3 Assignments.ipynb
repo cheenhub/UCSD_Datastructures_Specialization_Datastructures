{
 "cells": [
  {
   "cell_type": "markdown",
   "metadata": {},
   "source": [
    "Convert array to heap"
   ]
  },
  {
   "cell_type": "code",
   "execution_count": 8,
   "metadata": {},
   "outputs": [
    {
     "name": "stdout",
     "output_type": "stream",
     "text": [
      "5\n",
      "5 4 3 2 1\n",
      "3\n",
      "1 4\n",
      "0 1\n",
      "1 3\n"
     ]
    }
   ],
   "source": [
    "class HeapBuilder:\n",
    "    def __init__(self):\n",
    "        self._swaps = []\n",
    "        self._data = []\n",
    "\n",
    "    def ReadData(self):\n",
    "        n = int(input())\n",
    "        self._data = [int(s) for s in input().split()]\n",
    "        assert n == len(self._data)\n",
    "\n",
    "    def WriteResponse(self):\n",
    "        print(len(self._swaps))\n",
    "        for swap in self._swaps:\n",
    "            print(swap[0], swap[1])\n",
    "    \n",
    "    def left_child_index(self,i):\n",
    "        l_index = 2*i + 1\n",
    "        if l_index >= len(self._data):\n",
    "            return -1\n",
    "        return l_index\n",
    "    \n",
    "    def right_child_index(self,i):\n",
    "        r_index = 2*i + 2\n",
    "        if r_index >= len(self._data):\n",
    "            return -1\n",
    "        return r_index\n",
    "    \n",
    "    def sift_down(self,i):\n",
    "        l = self.left_child_index(i)\n",
    "        r = self.right_child_index(i)\n",
    "        minimums_index = i\n",
    "        \n",
    "        if l != -1 and self._data[l] < self._data[minimums_index]:\n",
    "            minimums_index = l\n",
    "        if r != -1 and self._data[r] < self._data[minimums_index]:\n",
    "            minimums_index = r\n",
    "        \n",
    "        if i != minimums_index:\n",
    "            self._swaps.append((i, minimums_index))\n",
    "            self._data[i], self._data[minimums_index] = self._data[minimums_index], self._data[i]\n",
    "            self.sift_down(minimums_index)\n",
    "            \n",
    "    \n",
    "    def GenerateSwaps(self):\n",
    "        for i in range(len(self._data)//2,-1,-1):\n",
    "            self.sift_down(i)\n",
    "\n",
    "    def Solve(self):\n",
    "        self.ReadData()\n",
    "        self.GenerateSwaps()\n",
    "        self.WriteResponse()\n",
    "\n",
    "\n",
    "heap_builder = HeapBuilder()\n",
    "heap_builder.Solve()"
   ]
  },
  {
   "cell_type": "markdown",
   "metadata": {},
   "source": [
    "Merging tables"
   ]
  },
  {
   "cell_type": "code",
   "execution_count": 11,
   "metadata": {},
   "outputs": [],
   "source": [
    "import sys\n",
    "\n",
    "class DisjointSet(object):\n",
    "    def __init__(self,n,data):\n",
    "        self.n = n\n",
    "        self.data = [0] + data\n",
    "        self.rank = [0]*(n+1)\n",
    "        self.parent = range(n+1).tolist()\n",
    "        self.max = max(self.data)\n",
    "    \n",
    "    def get_parent(self,i):\n",
    "        parents_list = []\n",
    "        root = i\n",
    "        while root != self.parent[root]:\n",
    "            parents_list.append(self.parent[root])\n",
    "            root = self.parent[root]\n",
    "        for ele in parents_list:\n",
    "            self.parent[ele] = root\n",
    "        return root\n",
    "    \n",
    "    def merge(self, destination, source):\n",
    "        source_root = self.get_parent(source)\n",
    "        destination_root = self.get_parent(destination)\n",
    "        \n",
    "        if source_root == destination_root:\n",
    "            return\n",
    "        \n",
    "        if self.rank[source_root] >= self.rank[destination_root]:\n",
    "            self.parent[source_root] = destination_root\n",
    "        else:\n",
    "            self.parent[destination_root] = source_root\n",
    "            if self.rank[source_root] == self.rank[destination_root]:\n",
    "                self.rank[source_root] += 1\n",
    "        \n",
    "        self.data[destination_root] = self.data[destination_root] + self.data[source_root]\n",
    "        self.data[source_root] = 0\n",
    "        \n",
    "        if self.max < self.data[destination_root]:\n",
    "            self.max = self.lines[destination_root]\n",
    "        \n",
    "    def max_size(self):\n",
    "        return self.max"
   ]
  },
  {
   "cell_type": "code",
   "execution_count": null,
   "metadata": {},
   "outputs": [],
   "source": []
  }
 ],
 "metadata": {
  "kernelspec": {
   "display_name": "Python 3",
   "language": "python",
   "name": "python3"
  },
  "language_info": {
   "codemirror_mode": {
    "name": "ipython",
    "version": 3
   },
   "file_extension": ".py",
   "mimetype": "text/x-python",
   "name": "python",
   "nbconvert_exporter": "python",
   "pygments_lexer": "ipython3",
   "version": "3.6.5"
  }
 },
 "nbformat": 4,
 "nbformat_minor": 2
}
