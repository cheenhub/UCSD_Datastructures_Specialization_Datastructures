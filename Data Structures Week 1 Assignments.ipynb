{
 "cells": [
  {
   "cell_type": "markdown",
   "metadata": {},
   "source": [
    "Check Brackets"
   ]
  },
  {
   "cell_type": "code",
   "execution_count": 18,
   "metadata": {},
   "outputs": [
    {
     "name": "stdout",
     "output_type": "stream",
     "text": [
      "foo(bar[i)\n",
      "10\n"
     ]
    }
   ],
   "source": [
    "def are_matching(a,b):\n",
    "    if a == '[' and b == ']':\n",
    "        return True\n",
    "    if a == '{' and b == '}':\n",
    "        return True\n",
    "    if a == '(' and b == ')':\n",
    "        return True\n",
    "    return False\n",
    "\n",
    "def find_mismatch(text):\n",
    "    bracket_list = []\n",
    "    for index,i in enumerate(text,1):\n",
    "        if i == '[' or i == '(' or i == '{':\n",
    "            bracket_list.append(i)\n",
    "            position = index\n",
    "        if i == ']' or i == ')' or i == '}':\n",
    "            if len(bracket_list) == 0:\n",
    "                return index\n",
    "            top = bracket_list.pop()\n",
    "            if not are_matching(top,i):\n",
    "                return index\n",
    "    if len(bracket_list) == 0:\n",
    "        return 'Success'\n",
    "    else:\n",
    "        return position\n",
    "        \n",
    "\n",
    "def main():\n",
    "    text = input()\n",
    "    print(find_mismatch(text))\n",
    "    \n",
    "main()"
   ]
  },
  {
   "cell_type": "markdown",
   "metadata": {},
   "source": [
    "Height of tree"
   ]
  },
  {
   "cell_type": "code",
   "execution_count": 29,
   "metadata": {},
   "outputs": [
    {
     "name": "stdout",
     "output_type": "stream",
     "text": [
      "5 4 -1 4 1 1\n",
      "3\n"
     ]
    }
   ],
   "source": [
    "def compute_height(tree):\n",
    "    max_depth = [1]*len(tree)\n",
    "    for i,n in enumerate(tree):\n",
    "        while n != -1:\n",
    "            max_depth[i] +=1\n",
    "            n = tree[n]\n",
    "    return max(max_depth)\n",
    "\n",
    "def main():\n",
    "    inp = input().split()\n",
    "    inp = [int(x) for x in inp]\n",
    "    tree = inp[1:]\n",
    "    print(compute_height(tree))\n",
    "\n",
    "main()"
   ]
  }
 ],
 "metadata": {
  "kernelspec": {
   "display_name": "Python 3",
   "language": "python",
   "name": "python3"
  },
  "language_info": {
   "codemirror_mode": {
    "name": "ipython",
    "version": 3
   },
   "file_extension": ".py",
   "mimetype": "text/x-python",
   "name": "python",
   "nbconvert_exporter": "python",
   "pygments_lexer": "ipython3",
   "version": "3.6.5"
  }
 },
 "nbformat": 4,
 "nbformat_minor": 2
}
